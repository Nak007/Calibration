{
 "cells": [
  {
   "cell_type": "markdown",
   "metadata": {
    "id": "lX0UM9qPPTVa"
   },
   "source": [
    "### Google.colab\n",
    "Only execute this cell when use on google colab platform (colab)."
   ]
  },
  {
   "cell_type": "markdown",
   "metadata": {
    "id": "uecRy_3DPTVc"
   },
   "source": [
    "<table class=\"tfo-notebook-buttons\" align=\"left\">\n",
    "  <td>\n",
    "    <a target=\"_blank\" href=\"https://github.com/Nak007/FeatureImportance\">\n",
    "    <img src=\"https://www.tensorflow.org/images/GitHub-Mark-32px.png\" />View source on GitHub</a>\n",
    "  </td>\n",
    "</table>"
   ]
  },
  {
   "cell_type": "markdown",
   "metadata": {
    "id": "WctsMiqLPTVd"
   },
   "source": [
    "Mount with google drive."
   ]
  },
  {
   "cell_type": "code",
   "execution_count": null,
   "metadata": {
    "colab": {
     "base_uri": "https://localhost:8080/"
    },
    "executionInfo": {
     "elapsed": 25883,
     "status": "ok",
     "timestamp": 1625548524345,
     "user": {
      "displayName": "Danusorn Sitdhirasdr",
      "photoUrl": "",
      "userId": "00479571870945710380"
     },
     "user_tz": -420
    },
    "id": "IRLShcFwPTVd",
    "outputId": "92b1c1ef-a39d-401e-f714-b6eec119bec0"
   },
   "outputs": [],
   "source": [
    "from google.colab import drive\n",
    "drive.mount('/content/dirve')\n",
    "\n",
    "# Import other libraries required.\n",
    "!git clone 'http://github.com/Nak007/Calibration.git'"
   ]
  },
  {
   "cell_type": "code",
   "execution_count": 1,
   "metadata": {
    "cellView": "form",
    "id": "7wlvQW5llskV"
   },
   "outputs": [],
   "source": [
    "import pandas as pd, numpy as np, sys\n",
    "import matplotlib.pyplot as plt\n",
    "from sklearn.metrics import roc_auc_score, f1_score\n",
    "pd.options.display.float_format = '{:,.4f}'.format\n",
    "\n",
    "from sklearn.ensemble import RandomForestClassifier as rf\n",
    "from sklearn.model_selection import train_test_split as tts\n",
    "from sklearn.datasets import make_classification\n",
    "\n",
    "try: sys.path.append('/content/Calibration')\n",
    "except: pass\n",
    "from Calibration import *"
   ]
  },
  {
   "cell_type": "markdown",
   "metadata": {
    "id": "85nNZqYnhmhp"
   },
   "source": [
    "### <font color=\"green\" size=5> Make classification data </font>\n",
    "\n",
    "Generate a random n-class classification problem. [Reference](https://scikit-learn.org/stable/modules/generated/sklearn.datasets.make_classification.html)"
   ]
  },
  {
   "cell_type": "code",
   "execution_count": 2,
   "metadata": {
    "executionInfo": {
     "elapsed": 301,
     "status": "ok",
     "timestamp": 1625548542284,
     "user": {
      "displayName": "Danusorn Sitdhirasdr",
      "photoUrl": "",
      "userId": "00479571870945710380"
     },
     "user_tz": -420
    },
    "id": "j017hDovd7WM"
   },
   "outputs": [],
   "source": [
    "X, y = make_classification(n_samples     = 10000, \n",
    "                           n_features    = 20, \n",
    "                           n_informative = 10, \n",
    "                           n_redundant   = 10, \n",
    "                           random_state  = 0, \n",
    "                           shuffle       = True, \n",
    "                           n_classes     = 2, \n",
    "                           weights       = [0.7,0.3])\n",
    "\n",
    "X = pd.DataFrame(X, columns=[\"feature_\" + str(n).zfill(2) \n",
    "                             for n in range(1,X.shape[1]+1)]) "
   ]
  },
  {
   "cell_type": "markdown",
   "metadata": {
    "id": "EOs8dF3GkIaE"
   },
   "source": [
    "### <font color=\"green\" size=5> Final classifier : retrain classifier (random_state, class_weight) </font>\n",
    "\n",
    "Retrain model with new **_train_** & **_test_** sets, and **class_weight** and validate fitted model accordingly."
   ]
  },
  {
   "cell_type": "code",
   "execution_count": 3,
   "metadata": {
    "colab": {
     "base_uri": "https://localhost:8080/"
    },
    "executionInfo": {
     "elapsed": 832,
     "status": "ok",
     "timestamp": 1614136016960,
     "user": {
      "displayName": "Danusorn Sitdhirasdr",
      "photoUrl": "",
      "userId": "00479571870945710380"
     },
     "user_tz": -420
    },
    "id": "NQ5JmBYJ2Msg",
    "outputId": "60a41f70-6ab2-4470-8591-42f1b09ece3f"
   },
   "outputs": [],
   "source": [
    "tts_kwds = {\"test_size\"   : 0.3,\n",
    "            \"random_state\": 0, \n",
    "            \"shuffle\"     : True}\n",
    "X_train, X_test, y_train, y_test = tts(X, y, **tts_kwds)"
   ]
  },
  {
   "cell_type": "code",
   "execution_count": 4,
   "metadata": {
    "executionInfo": {
     "elapsed": 1182,
     "status": "ok",
     "timestamp": 1614136060873,
     "user": {
      "displayName": "Danusorn Sitdhirasdr",
      "photoUrl": "",
      "userId": "00479571870945710380"
     },
     "user_tz": -420
    },
    "id": "bRkRjvDNlPLz"
   },
   "outputs": [],
   "source": [
    "clf = rf(**{\"random_state\": 0, \n",
    "            \"n_estimators\": 50, \n",
    "            \"n_jobs\"      : -1, \n",
    "            \"class_weight\": \"balanced\", \n",
    "            \"max_depth\"   : 6, \n",
    "            \"max_features\": \"sqrt\"})"
   ]
  },
  {
   "cell_type": "code",
   "execution_count": 5,
   "metadata": {},
   "outputs": [],
   "source": [
    "clf.fit(X_train, y_train)\n",
    "y_train_proba = clf.predict_proba(X_train)[:,1]\n",
    "y_test_proba  = clf.predict_proba(X_test )[:,1]"
   ]
  },
  {
   "cell_type": "markdown",
   "metadata": {},
   "source": [
    "### <font color=\"green\" size=5> Calibration of probability </font>\n",
    "\n",
    "The purpose of calibration is to improve estimated probabilities, which can be directly interpreted as a confidence level. For instance a well calibrated (binary) classifier should classify the samples such that among the samples to which it gave a predict_proba value close to 0.8, approx. 80% actually belong to the positive class. The samples that are used to fit the calibrator should not be the same samples used to fit the classifier, as this would introduce bias. [Reference](https://scikit-learn.org/stable/modules/calibration.html) "
   ]
  },
  {
   "cell_type": "code",
   "execution_count": 6,
   "metadata": {},
   "outputs": [],
   "source": [
    "weights  = get_classweights(y=y)\n",
    "y_scores = (y_test_proba.reshape(-1,1), y_train_proba.reshape(-1,1))"
   ]
  },
  {
   "cell_type": "markdown",
   "metadata": {},
   "source": [
    "Using logistic regression as a calibrator, we are trying to find the optimal `class_weight` that yields the smallest difference of a given evaluation metric e.g. f1-score with a threshold of 0.5, between train and test datasets."
   ]
  },
  {
   "cell_type": "code",
   "execution_count": 7,
   "metadata": {},
   "outputs": [
    {
     "name": "stdout",
     "output_type": "stream",
     "text": [
      "The index of class weights is 4.\n"
     ]
    }
   ],
   "source": [
    "from sklearn.linear_model import LogisticRegression\n",
    "scores = []\n",
    "for w in weights:\n",
    "    kwds = dict(max_iter=500, tol=1e-4, class_weight=w)\n",
    "    calibrator = LogisticRegression(**kwds).fit(y_scores[0], y_test)\n",
    "    scores.append([f1_score(y_true, calibrator.predict(y_scores[n])) \n",
    "                   for n,y_true in enumerate([y_test, y_train])]) \n",
    "    \n",
    "small = np.argmin(np.diff(np.array(scores), axis=1))\n",
    "print(f\"The index of class weights is {small}.\")"
   ]
  },
  {
   "cell_type": "markdown",
   "metadata": {},
   "source": [
    "Fit calibrator with selected `class_weight`."
   ]
  },
  {
   "cell_type": "code",
   "execution_count": 8,
   "metadata": {},
   "outputs": [],
   "source": [
    "kwds = dict(max_iter=500, tol=1e-4, class_weight=weights[small])\n",
    "calibrator = LogisticRegression(**kwds).fit(y_scores[0], y_test)"
   ]
  },
  {
   "cell_type": "markdown",
   "metadata": {},
   "source": [
    "Use **`CalibatorEvaluation`** to evaluate the calibrated probabilities."
   ]
  },
  {
   "cell_type": "code",
   "execution_count": 9,
   "metadata": {},
   "outputs": [],
   "source": [
    "train  = (y_test , calibrator.predict_proba(y_scores[0])[:,1])\n",
    "test   = (y_train, calibrator.predict_proba(y_scores[1])[:,1])\n",
    "calibr = CalibatorEvaluation(equal_width=False, bins=range(2,21)).fit(train, test)"
   ]
  },
  {
   "cell_type": "markdown",
   "metadata": {},
   "source": [
    "Use **`plotting_metric()`** to observe how change in number of bins can affect evaluation metrics i.e. gini impurity (`gini`), and R-Squared (`r2`)."
   ]
  },
  {
   "cell_type": "code",
   "execution_count": 10,
   "metadata": {},
   "outputs": [
    {
     "data": {
      "image/png": "[encoded data removed]",
      "text/plain": [
       "<Figure size 478.8x288 with 1 Axes>"
      ]
     },
     "metadata": {
      "needs_background": "light"
     },
     "output_type": "display_data"
    }
   ],
   "source": [
    "ax = calibr.plotting_metric(\"gini\")"
   ]
  },
  {
   "cell_type": "markdown",
   "metadata": {},
   "source": [
    "Use **`plotting_reliability()`** to plot calibration curve or so-called **reliability curve**."
   ]
  },
  {
   "cell_type": "code",
   "execution_count": 11,
   "metadata": {},
   "outputs": [
    {
     "data": {
      "image/png": "[encoded data removed]",
      "text/plain": [
       "<Figure size 864x288 with 2 Axes>"
      ]
     },
     "metadata": {
      "needs_background": "light"
     },
     "output_type": "display_data"
    }
   ],
   "source": [
    "n_iter = 10\n",
    "axes = plt.subplots(1,2,figsize=(12,4))[1]\n",
    "ax = calibr.plotting_reliability(n_iter, use_train=True , ax=axes[0])\n",
    "ax = calibr.plotting_reliability(n_iter, use_train=False, ax=axes[1])"
   ]
  },
  {
   "cell_type": "markdown",
   "metadata": {},
   "source": [
    "Use **`plotting_hist()`** to enable us to compare calibrated estimates and actual percentage."
   ]
  },
  {
   "cell_type": "code",
   "execution_count": 12,
   "metadata": {},
   "outputs": [
    {
     "data": {
      "image/png": "[encoded data removed]",
      "text/plain": [
       "<Figure size 612x288 with 1 Axes>"
      ]
     },
     "metadata": {},
     "output_type": "display_data"
    },
    {
     "data": {
      "image/png": "[encoded data removed]",
      "text/plain": [
       "<Figure size 612x288 with 1 Axes>"
      ]
     },
     "metadata": {},
     "output_type": "display_data"
    }
   ],
   "source": [
    "calibr.plotting_hist(n_iter, use_train=True ); plt.show()\n",
    "calibr.plotting_hist(n_iter, use_train=False); plt.show()"
   ]
  },
  {
   "cell_type": "markdown",
   "metadata": {},
   "source": [
    "Summary table"
   ]
  },
  {
   "cell_type": "code",
   "execution_count": 13,
   "metadata": {},
   "outputs": [
    {
     "data": {
      "text/html": [
       "<div>\n",
       "<style scoped>\n",
       "    .dataframe tbody tr th:only-of-type {\n",
       "        vertical-align: middle;\n",
       "    }\n",
       "\n",
       "    .dataframe tbody tr th {\n",
       "        vertical-align: top;\n",
       "    }\n",
       "\n",
       "    .dataframe thead th {\n",
       "        text-align: right;\n",
       "    }\n",
       "</style>\n",
       "<table border=\"1\" class=\"dataframe\">\n",
       "  <thead>\n",
       "    <tr style=\"text-align: right;\">\n",
       "      <th></th>\n",
       "      <th>r_min</th>\n",
       "      <th>r_max</th>\n",
       "      <th>p_samples</th>\n",
       "      <th>min_proba</th>\n",
       "      <th>max_proba</th>\n",
       "      <th>mean_proba</th>\n",
       "      <th>std_proba</th>\n",
       "      <th>p_targets</th>\n",
       "    </tr>\n",
       "  </thead>\n",
       "  <tbody>\n",
       "    <tr>\n",
       "      <th>0</th>\n",
       "      <td>0.0000</td>\n",
       "      <td>0.0132</td>\n",
       "      <td>0.1667</td>\n",
       "      <td>0.0053</td>\n",
       "      <td>0.0131</td>\n",
       "      <td>0.0090</td>\n",
       "      <td>0.0021</td>\n",
       "      <td>0.0060</td>\n",
       "    </tr>\n",
       "    <tr>\n",
       "      <th>1</th>\n",
       "      <td>0.0132</td>\n",
       "      <td>0.0312</td>\n",
       "      <td>0.1667</td>\n",
       "      <td>0.0132</td>\n",
       "      <td>0.0312</td>\n",
       "      <td>0.0203</td>\n",
       "      <td>0.0051</td>\n",
       "      <td>0.0100</td>\n",
       "    </tr>\n",
       "    <tr>\n",
       "      <th>2</th>\n",
       "      <td>0.0312</td>\n",
       "      <td>0.0540</td>\n",
       "      <td>0.0833</td>\n",
       "      <td>0.0312</td>\n",
       "      <td>0.0537</td>\n",
       "      <td>0.0408</td>\n",
       "      <td>0.0067</td>\n",
       "      <td>0.0160</td>\n",
       "    </tr>\n",
       "    <tr>\n",
       "      <th>3</th>\n",
       "      <td>0.0540</td>\n",
       "      <td>0.0980</td>\n",
       "      <td>0.0833</td>\n",
       "      <td>0.0542</td>\n",
       "      <td>0.0980</td>\n",
       "      <td>0.0730</td>\n",
       "      <td>0.0125</td>\n",
       "      <td>0.0440</td>\n",
       "    </tr>\n",
       "    <tr>\n",
       "      <th>4</th>\n",
       "      <td>0.0980</td>\n",
       "      <td>0.1868</td>\n",
       "      <td>0.0833</td>\n",
       "      <td>0.0980</td>\n",
       "      <td>0.1866</td>\n",
       "      <td>0.1353</td>\n",
       "      <td>0.0245</td>\n",
       "      <td>0.0520</td>\n",
       "    </tr>\n",
       "    <tr>\n",
       "      <th>5</th>\n",
       "      <td>0.1868</td>\n",
       "      <td>0.4025</td>\n",
       "      <td>0.0833</td>\n",
       "      <td>0.1872</td>\n",
       "      <td>0.4020</td>\n",
       "      <td>0.2872</td>\n",
       "      <td>0.0607</td>\n",
       "      <td>0.2000</td>\n",
       "    </tr>\n",
       "    <tr>\n",
       "      <th>6</th>\n",
       "      <td>0.4025</td>\n",
       "      <td>0.7311</td>\n",
       "      <td>0.0833</td>\n",
       "      <td>0.4035</td>\n",
       "      <td>0.7309</td>\n",
       "      <td>0.5515</td>\n",
       "      <td>0.0975</td>\n",
       "      <td>0.5440</td>\n",
       "    </tr>\n",
       "    <tr>\n",
       "      <th>7</th>\n",
       "      <td>0.7311</td>\n",
       "      <td>0.9207</td>\n",
       "      <td>0.0833</td>\n",
       "      <td>0.7319</td>\n",
       "      <td>0.9205</td>\n",
       "      <td>0.8409</td>\n",
       "      <td>0.0567</td>\n",
       "      <td>0.8400</td>\n",
       "    </tr>\n",
       "    <tr>\n",
       "      <th>8</th>\n",
       "      <td>0.9207</td>\n",
       "      <td>0.9786</td>\n",
       "      <td>0.0833</td>\n",
       "      <td>0.9214</td>\n",
       "      <td>0.9786</td>\n",
       "      <td>0.9558</td>\n",
       "      <td>0.0157</td>\n",
       "      <td>0.9520</td>\n",
       "    </tr>\n",
       "    <tr>\n",
       "      <th>9</th>\n",
       "      <td>0.9786</td>\n",
       "      <td>1.0000</td>\n",
       "      <td>0.0833</td>\n",
       "      <td>0.9787</td>\n",
       "      <td>0.9958</td>\n",
       "      <td>0.9887</td>\n",
       "      <td>0.0051</td>\n",
       "      <td>1.0000</td>\n",
       "    </tr>\n",
       "  </tbody>\n",
       "</table>\n",
       "</div>"
      ],
      "text/plain": [
       "   r_min  r_max  p_samples  min_proba  max_proba  mean_proba  std_proba  \\\n",
       "0 0.0000 0.0132     0.1667     0.0053     0.0131      0.0090     0.0021   \n",
       "1 0.0132 0.0312     0.1667     0.0132     0.0312      0.0203     0.0051   \n",
       "2 0.0312 0.0540     0.0833     0.0312     0.0537      0.0408     0.0067   \n",
       "3 0.0540 0.0980     0.0833     0.0542     0.0980      0.0730     0.0125   \n",
       "4 0.0980 0.1868     0.0833     0.0980     0.1866      0.1353     0.0245   \n",
       "5 0.1868 0.4025     0.0833     0.1872     0.4020      0.2872     0.0607   \n",
       "6 0.4025 0.7311     0.0833     0.4035     0.7309      0.5515     0.0975   \n",
       "7 0.7311 0.9207     0.0833     0.7319     0.9205      0.8409     0.0567   \n",
       "8 0.9207 0.9786     0.0833     0.9214     0.9786      0.9558     0.0157   \n",
       "9 0.9786 1.0000     0.0833     0.9787     0.9958      0.9887     0.0051   \n",
       "\n",
       "   p_targets  \n",
       "0     0.0060  \n",
       "1     0.0100  \n",
       "2     0.0160  \n",
       "3     0.0440  \n",
       "4     0.0520  \n",
       "5     0.2000  \n",
       "6     0.5440  \n",
       "7     0.8400  \n",
       "8     0.9520  \n",
       "9     1.0000  "
      ]
     },
     "execution_count": 13,
     "metadata": {},
     "output_type": "execute_result"
    }
   ],
   "source": [
    "calibr.result[n_iter].train.info"
   ]
  },
  {
   "cell_type": "markdown",
   "metadata": {},
   "source": [
    "Calibrate the estimates from initial estimator."
   ]
  },
  {
   "cell_type": "code",
   "execution_count": 14,
   "metadata": {},
   "outputs": [],
   "source": [
    "z = clf.predict_proba(X_train)[:,1] * calibrator.coef_ + calibrator.intercept_\n",
    "estimates = 1/(1 + np.exp(-z))"
   ]
  },
  {
   "cell_type": "markdown",
   "metadata": {},
   "source": [
    "Assign probabilities into groups with respect to `bin_edges`."
   ]
  },
  {
   "cell_type": "code",
   "execution_count": 15,
   "metadata": {},
   "outputs": [],
   "source": [
    "bin_edges   = calibr.result[n_iter].train.bin_edges\n",
    "group_proba = np.digitize(estimates, bin_edges)"
   ]
  },
  {
   "cell_type": "markdown",
   "metadata": {},
   "source": [
    "### <font color=\"green\" size=5> Score </font>\n",
    "\n",
    "Use **`cal_score()`** to convert probability into score."
   ]
  },
  {
   "cell_type": "code",
   "execution_count": 16,
   "metadata": {},
   "outputs": [],
   "source": [
    "p_min = 0.0001\n",
    "score_kwds = dict(pdo=20, point=0, odd=p_min/(1-p_min))"
   ]
  },
  {
   "cell_type": "code",
   "execution_count": 17,
   "metadata": {},
   "outputs": [],
   "source": [
    "final_group = pd.DataFrame(calibr.result[n_iter].train.info)\n",
    "final_group[\"min_score\"] = cal_score(final_group[\"r_min\"], **score_kwds).astype(int)\n",
    "final_group[\"max_score\"] = cal_score(final_group[\"r_max\"], **score_kwds).astype(int)\n",
    "final_group[\"group\"] = np.arange(1, len(final_group)+1)\n",
    "scores = cal_score(estimates, **score_kwds).astype(int)"
   ]
  },
  {
   "cell_type": "code",
   "execution_count": 18,
   "metadata": {},
   "outputs": [
    {
     "data": {
      "text/html": [
       "<div>\n",
       "<style scoped>\n",
       "    .dataframe tbody tr th:only-of-type {\n",
       "        vertical-align: middle;\n",
       "    }\n",
       "\n",
       "    .dataframe tbody tr th {\n",
       "        vertical-align: top;\n",
       "    }\n",
       "\n",
       "    .dataframe thead th {\n",
       "        text-align: right;\n",
       "    }\n",
       "</style>\n",
       "<table border=\"1\" class=\"dataframe\">\n",
       "  <thead>\n",
       "    <tr style=\"text-align: right;\">\n",
       "      <th></th>\n",
       "      <th>r_min</th>\n",
       "      <th>r_max</th>\n",
       "      <th>p_samples</th>\n",
       "      <th>min_proba</th>\n",
       "      <th>max_proba</th>\n",
       "      <th>mean_proba</th>\n",
       "      <th>std_proba</th>\n",
       "      <th>p_targets</th>\n",
       "      <th>min_score</th>\n",
       "      <th>max_score</th>\n",
       "    </tr>\n",
       "    <tr>\n",
       "      <th>group</th>\n",
       "      <th></th>\n",
       "      <th></th>\n",
       "      <th></th>\n",
       "      <th></th>\n",
       "      <th></th>\n",
       "      <th></th>\n",
       "      <th></th>\n",
       "      <th></th>\n",
       "      <th></th>\n",
       "      <th></th>\n",
       "    </tr>\n",
       "  </thead>\n",
       "  <tbody>\n",
       "    <tr>\n",
       "      <th>1</th>\n",
       "      <td>0.0000</td>\n",
       "      <td>0.0132</td>\n",
       "      <td>0.1667</td>\n",
       "      <td>0.0053</td>\n",
       "      <td>0.0131</td>\n",
       "      <td>0.0090</td>\n",
       "      <td>0.0021</td>\n",
       "      <td>0.0060</td>\n",
       "      <td>0</td>\n",
       "      <td>141</td>\n",
       "    </tr>\n",
       "    <tr>\n",
       "      <th>2</th>\n",
       "      <td>0.0132</td>\n",
       "      <td>0.0312</td>\n",
       "      <td>0.1667</td>\n",
       "      <td>0.0132</td>\n",
       "      <td>0.0312</td>\n",
       "      <td>0.0203</td>\n",
       "      <td>0.0051</td>\n",
       "      <td>0.0100</td>\n",
       "      <td>141</td>\n",
       "      <td>167</td>\n",
       "    </tr>\n",
       "    <tr>\n",
       "      <th>3</th>\n",
       "      <td>0.0312</td>\n",
       "      <td>0.0540</td>\n",
       "      <td>0.0833</td>\n",
       "      <td>0.0312</td>\n",
       "      <td>0.0537</td>\n",
       "      <td>0.0408</td>\n",
       "      <td>0.0067</td>\n",
       "      <td>0.0160</td>\n",
       "      <td>167</td>\n",
       "      <td>183</td>\n",
       "    </tr>\n",
       "    <tr>\n",
       "      <th>4</th>\n",
       "      <td>0.0540</td>\n",
       "      <td>0.0980</td>\n",
       "      <td>0.0833</td>\n",
       "      <td>0.0542</td>\n",
       "      <td>0.0980</td>\n",
       "      <td>0.0730</td>\n",
       "      <td>0.0125</td>\n",
       "      <td>0.0440</td>\n",
       "      <td>183</td>\n",
       "      <td>202</td>\n",
       "    </tr>\n",
       "    <tr>\n",
       "      <th>5</th>\n",
       "      <td>0.0980</td>\n",
       "      <td>0.1868</td>\n",
       "      <td>0.0833</td>\n",
       "      <td>0.0980</td>\n",
       "      <td>0.1866</td>\n",
       "      <td>0.1353</td>\n",
       "      <td>0.0245</td>\n",
       "      <td>0.0520</td>\n",
       "      <td>202</td>\n",
       "      <td>223</td>\n",
       "    </tr>\n",
       "    <tr>\n",
       "      <th>6</th>\n",
       "      <td>0.1868</td>\n",
       "      <td>0.4025</td>\n",
       "      <td>0.0833</td>\n",
       "      <td>0.1872</td>\n",
       "      <td>0.4020</td>\n",
       "      <td>0.2872</td>\n",
       "      <td>0.0607</td>\n",
       "      <td>0.2000</td>\n",
       "      <td>223</td>\n",
       "      <td>254</td>\n",
       "    </tr>\n",
       "    <tr>\n",
       "      <th>7</th>\n",
       "      <td>0.4025</td>\n",
       "      <td>0.7311</td>\n",
       "      <td>0.0833</td>\n",
       "      <td>0.4035</td>\n",
       "      <td>0.7309</td>\n",
       "      <td>0.5515</td>\n",
       "      <td>0.0975</td>\n",
       "      <td>0.5440</td>\n",
       "      <td>254</td>\n",
       "      <td>295</td>\n",
       "    </tr>\n",
       "    <tr>\n",
       "      <th>8</th>\n",
       "      <td>0.7311</td>\n",
       "      <td>0.9207</td>\n",
       "      <td>0.0833</td>\n",
       "      <td>0.7319</td>\n",
       "      <td>0.9205</td>\n",
       "      <td>0.8409</td>\n",
       "      <td>0.0567</td>\n",
       "      <td>0.8400</td>\n",
       "      <td>295</td>\n",
       "      <td>336</td>\n",
       "    </tr>\n",
       "    <tr>\n",
       "      <th>9</th>\n",
       "      <td>0.9207</td>\n",
       "      <td>0.9786</td>\n",
       "      <td>0.0833</td>\n",
       "      <td>0.9214</td>\n",
       "      <td>0.9786</td>\n",
       "      <td>0.9558</td>\n",
       "      <td>0.0157</td>\n",
       "      <td>0.9520</td>\n",
       "      <td>336</td>\n",
       "      <td>376</td>\n",
       "    </tr>\n",
       "    <tr>\n",
       "      <th>10</th>\n",
       "      <td>0.9786</td>\n",
       "      <td>1.0000</td>\n",
       "      <td>0.0833</td>\n",
       "      <td>0.9787</td>\n",
       "      <td>0.9958</td>\n",
       "      <td>0.9887</td>\n",
       "      <td>0.0051</td>\n",
       "      <td>1.0000</td>\n",
       "      <td>376</td>\n",
       "      <td>532</td>\n",
       "    </tr>\n",
       "  </tbody>\n",
       "</table>\n",
       "</div>"
      ],
      "text/plain": [
       "       r_min  r_max  p_samples  min_proba  max_proba  mean_proba  std_proba  \\\n",
       "group                                                                         \n",
       "1     0.0000 0.0132     0.1667     0.0053     0.0131      0.0090     0.0021   \n",
       "2     0.0132 0.0312     0.1667     0.0132     0.0312      0.0203     0.0051   \n",
       "3     0.0312 0.0540     0.0833     0.0312     0.0537      0.0408     0.0067   \n",
       "4     0.0540 0.0980     0.0833     0.0542     0.0980      0.0730     0.0125   \n",
       "5     0.0980 0.1868     0.0833     0.0980     0.1866      0.1353     0.0245   \n",
       "6     0.1868 0.4025     0.0833     0.1872     0.4020      0.2872     0.0607   \n",
       "7     0.4025 0.7311     0.0833     0.4035     0.7309      0.5515     0.0975   \n",
       "8     0.7311 0.9207     0.0833     0.7319     0.9205      0.8409     0.0567   \n",
       "9     0.9207 0.9786     0.0833     0.9214     0.9786      0.9558     0.0157   \n",
       "10    0.9786 1.0000     0.0833     0.9787     0.9958      0.9887     0.0051   \n",
       "\n",
       "       p_targets  min_score  max_score  \n",
       "group                                   \n",
       "1         0.0060          0        141  \n",
       "2         0.0100        141        167  \n",
       "3         0.0160        167        183  \n",
       "4         0.0440        183        202  \n",
       "5         0.0520        202        223  \n",
       "6         0.2000        223        254  \n",
       "7         0.5440        254        295  \n",
       "8         0.8400        295        336  \n",
       "9         0.9520        336        376  \n",
       "10        1.0000        376        532  "
      ]
     },
     "execution_count": 18,
     "metadata": {},
     "output_type": "execute_result"
    }
   ],
   "source": [
    "final_group.set_index(\"group\")"
   ]
  }
 ],
 "metadata": {
  "colab": {
   "collapsed_sections": [],
   "name": "model_hcode_r1.ipynb",
   "provenance": []
  },
  "kernelspec": {
   "display_name": "Python 3",
   "language": "python",
   "name": "python3"
  },
  "language_info": {
   "codemirror_mode": {
    "name": "ipython",
    "version": 3
   },
   "file_extension": ".py",
   "mimetype": "text/x-python",
   "name": "python",
   "nbconvert_exporter": "python",
   "pygments_lexer": "ipython3",
   "version": "3.8.8"
  }
 },
 "nbformat": 4,
 "nbformat_minor": 1
}
